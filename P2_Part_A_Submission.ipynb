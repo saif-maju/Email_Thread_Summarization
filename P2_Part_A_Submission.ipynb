{
  "nbformat": 4,
  "nbformat_minor": 0,
  "metadata": {
    "colab": {
      "name": "P2_Part_A_Submission.ipynb",
      "provenance": [],
      "collapsed_sections": [
        "0zCsRfYtgo_G",
        "9Z5LbIJXDYSJ",
        "Vhf6rR7zDpJ0",
        "KSBKeUalDcwO",
        "UjR8MM7cDtKL",
        "wooGrgS8Dwys",
        "z8jH9JXsD0gH",
        "_8KyYunKEAMP"
      ],
      "include_colab_link": true
    },
    "kernelspec": {
      "display_name": "Python 3",
      "name": "python3"
    }
  },
  "cells": [
    {
      "cell_type": "markdown",
      "metadata": {
        "id": "view-in-github",
        "colab_type": "text"
      },
      "source": [
        "<a href=\"https://colab.research.google.com/github/saif-maju/Email_Thread_Summarization/blob/main/P2_Part_A_Submission.ipynb\" target=\"_parent\"><img src=\"https://colab.research.google.com/assets/colab-badge.svg\" alt=\"Open In Colab\"/></a>"
      ]
    },
    {
      "cell_type": "markdown",
      "metadata": {
        "id": "M8tSA2L3XP2q"
      },
      "source": [
        "# Project: Email Thread Summarization\r\n"
      ]
    },
    {
      "cell_type": "code",
      "metadata": {
        "id": "aVaHJalC_wg9",
        "colab": {
          "base_uri": "https://localhost:8080/"
        },
        "outputId": "41633a7a-07c8-4d05-c99a-89681e7e73c5"
      },
      "source": [
        "! pip install mail_parser talon  fsspec>=0.3.3\r\n",
        "import sys\r\n",
        "from os import listdir\r\n",
        "from os.path import isfile, join\r\n",
        "import pandas as pd\r\n",
        "import numpy as np\r\n",
        "import matplotlib.pyplot as plt\r\n",
        "import email\r\n",
        "import mailparser\r\n",
        "import xml.etree.ElementTree as ET\r\n",
        "from talon.signature.bruteforce import extract_signature\r\n",
        "from nltk.tokenize import word_tokenize, sent_tokenize\r\n",
        "from nltk.corpus import stopwords\r\n",
        "import re\r\n",
        "import pprint\r\n",
        "from tqdm import tqdm\r\n",
        "from dask import delayed\r\n",
        "\r\n",
        "!pip install rouge \r\n",
        "!pip install sentence_transformers\r\n",
        "!pip install SentenceTransformer\r\n",
        "\r\n",
        "import rouge\r\n",
        "from sklearn.metrics.pairwise import cosine_similarity\r\n",
        "import networkx as nx\r\n",
        "import seaborn as sns\r\n",
        "import matplotlib.pyplot as plt\r\n",
        "from operator import itemgetter\r\n",
        "from sentence_transformers import SentenceTransformer\r\n",
        "import nltk\r\n",
        "nltk.download('punkt')\r\n",
        "nltk.download('stopwords')\r\n"
      ],
      "execution_count": null,
      "outputs": [
        {
          "output_type": "stream",
          "text": [
            "/usr/local/lib/python3.6/dist-packages/sklearn/externals/joblib/__init__.py:15: FutureWarning: sklearn.externals.joblib is deprecated in 0.21 and will be removed in 0.23. Please import this functionality directly from joblib, which can be installed with: pip install joblib. If this warning is raised when loading pickled models, you may need to re-serialize those models with scikit-learn 0.21+.\n",
            "  warnings.warn(msg, category=FutureWarning)\n"
          ],
          "name": "stderr"
        }
      ]
    },
    {
      "cell_type": "markdown",
      "metadata": {
        "id": "N0bg3gQBadya"
      },
      "source": [
        "fetch data set from the source"
      ]
    },
    {
      "cell_type": "code",
      "metadata": {
        "id": "oZc-P_biAHVV",
        "colab": {
          "base_uri": "https://localhost:8080/"
        },
        "outputId": "e34ebc8e-2127-4b7a-dd5f-3cff7a3f3eff"
      },
      "source": [
        "!wget \"http://www.cs.cmu.edu/~enron/enron_mail_20150507.tar.gz\"\r\n",
        "!tar -xf enron_mail_20150507.tar.gz"
      ],
      "execution_count": null,
      "outputs": [
        {
          "output_type": "stream",
          "text": [
            "--2020-12-13 09:27:57--  http://www.cs.cmu.edu/~enron/enron_mail_20150507.tar.gz\n",
            "Resolving www.cs.cmu.edu (www.cs.cmu.edu)... 128.2.42.95\n",
            "Connecting to www.cs.cmu.edu (www.cs.cmu.edu)|128.2.42.95|:80... connected.\n",
            "HTTP request sent, awaiting response... 200 OK\n",
            "Length: 443254787 (423M) [application/x-gzip]\n",
            "Saving to: ‘enron_mail_20150507.tar.gz’\n",
            "\n",
            "enron_mail_20150507 100%[===================>] 422.72M   921KB/s    in 7m 57s  \n",
            "\n",
            "2020-12-13 09:35:54 (907 KB/s) - ‘enron_mail_20150507.tar.gz’ saved [443254787/443254787]\n",
            "\n"
          ],
          "name": "stdout"
        }
      ]
    },
    {
      "cell_type": "code",
      "metadata": {
        "id": "oe4gpCi-ERH_"
      },
      "source": [
        "def process_date(date_time):\r\n",
        "    '''\r\n",
        "    Converts the MIME date format to a more pandas friendly type. \r\n",
        "    '''\r\n",
        "    try:\r\n",
        "        date_time = email.utils.format_datetime(email.utils.parsedate_to_datetime(date_time))\r\n",
        "    except:\r\n",
        "        date_time = None\r\n",
        "    return date_time\r\n",
        "\r\n",
        "def generate_email_paths(mail_dir):\r\n",
        "    '''\r\n",
        "    Given a mail directory, this will generate the file paths to each email in each inbox. \r\n",
        "    '''\r\n",
        "    dir = []\r\n",
        "    mailboxes = listdir(mail_dir)\r\n",
        "    # print(mailboxes)\r\n",
        "    for mailbox in mailboxes:\r\n",
        "        # print(mailbox)\r\n",
        "        inbox = listdir(mail_dir + mailbox)\r\n",
        "        # print(inbox)\r\n",
        "        for folder in inbox:\r\n",
        "            # print(folder)\r\n",
        "            path = mail_dir + mailbox + \"/\" + folder\r\n",
        "            # print(path)\r\n",
        "            if isfile(path):\r\n",
        "              continue \r\n",
        "            emails = listdir(path)\r\n",
        "            # print(emails)\r\n",
        "            for single_email in emails:\r\n",
        "                # print(single_email)\r\n",
        "                full_path = path + \"/\" + single_email            \r\n",
        "                # print(full_path)\r\n",
        "                \r\n",
        "                if isfile(full_path):\r\n",
        "                  dir.append([full_path , mailbox , single_email])\r\n",
        "    return dir\r\n",
        "\r\n",
        "@delayed\r\n",
        "def process_threads(email_path,employee,folder):\r\n",
        "    '''\r\n",
        "    This function splits a raw email into constituent parts that can be used as features.\r\n",
        "    '''\r\n",
        "    mail = mailparser.parse_from_file(email_path)\r\n",
        "    raw_mail = mail.message_as_string\r\n",
        "    # print(raw_mail)\r\n",
        "    subject = mail.headers.get('Subject')\r\n",
        "    to_ = mail.headers.get('To')\r\n",
        "    from_ = mail.headers.get('From')\r\n",
        "    date_time=process_date(mail.headers.get('Date'))\r\n",
        "    delimiter = \"-----Original Message-----\" \r\n",
        "    clean_body = ''\r\n",
        "    if delimiter not in raw_mail:\r\n",
        "      return None\r\n",
        "    else:\r\n",
        "      split_mails = raw_mail.split(delimiter)\r\n",
        "      for smail in split_mails:\r\n",
        "        smail=smail.strip()\r\n",
        "        all_mail = mailparser.parse_from_string(smail)\r\n",
        "        body_parts = all_mail.body.split('\\n')\r\n",
        "        # salutation = body_parts[0]\r\n",
        "        for line in body_parts[2:-1]:\r\n",
        "          if line in (' ','') :\r\n",
        "            continue\r\n",
        "          if '<<' in line:\r\n",
        "            break\r\n",
        "          clean_body+=line+' '\r\n",
        "      email_dict = {\r\n",
        "          \"date\" : date_time,\r\n",
        "          \"subject\": subject,\r\n",
        "          \"from\":from_,\r\n",
        "          \"to\":to_,          \r\n",
        "          \"body\" : clean_body\r\n",
        "          }\r\n",
        "      # pprint.pprint(email_dict)\r\n",
        "      return email_dict\r\n",
        "       \r\n",
        "\r\n"
      ],
      "execution_count": null,
      "outputs": []
    },
    {
      "cell_type": "code",
      "metadata": {
        "id": "o4yREXbJoiuU"
      },
      "source": [
        "mail_dir='/content/maildir/'\r\n",
        "dir = generate_email_paths(mail_dir)"
      ],
      "execution_count": null,
      "outputs": []
    },
    {
      "cell_type": "markdown",
      "metadata": {
        "id": "N5jpxl8kbAjc"
      },
      "source": [
        "process 1000 emails and filter threads "
      ]
    },
    {
      "cell_type": "code",
      "metadata": {
        "colab": {
          "base_uri": "https://localhost:8080/"
        },
        "id": "awQUSApOrIrP",
        "outputId": "86cbefee-48c4-46ea-8444-836b74c6c07d"
      },
      "source": [
        "threads = [delayed(process_threads)(d[0], d[1], d[2]).compute()  for d in tqdm(dir[:1000])]\r\n",
        "clean_threads = [t  for t in threads if t]\r\n",
        "threads_df= pd.DataFrame(clean_threads)\r\n",
        "threads_df['date'] = pd.to_datetime(threads_df['date'], utc=True)"
      ],
      "execution_count": null,
      "outputs": [
        {
          "output_type": "stream",
          "text": [
            "\n",
            "\n",
            "  0%|          | 0/1000 [00:00<?, ?it/s]\u001b[A\u001b[A\n",
            "\n",
            "  3%|▎         | 27/1000 [00:00<00:03, 269.05it/s]\u001b[A\u001b[A\n",
            "\n",
            "  4%|▎         | 36/1000 [00:00<00:07, 122.82it/s]\u001b[A\u001b[A\n",
            "\n",
            "  5%|▍         | 47/1000 [00:00<00:08, 118.31it/s]\u001b[A\u001b[A\n",
            "\n",
            "  7%|▋         | 73/1000 [00:00<00:06, 141.08it/s]\u001b[A\u001b[A\n",
            "\n",
            " 11%|█         | 106/1000 [00:00<00:05, 169.75it/s]\u001b[A\u001b[A\n",
            "\n",
            " 13%|█▎        | 128/1000 [00:00<00:04, 181.23it/s]\u001b[A\u001b[A\n",
            "\n",
            " 16%|█▌        | 156/1000 [00:00<00:04, 201.88it/s]\u001b[A\u001b[A\n",
            "\n",
            " 18%|█▊        | 184/1000 [00:00<00:03, 219.28it/s]\u001b[A\u001b[A\n",
            "\n",
            " 21%|██        | 208/1000 [00:00<00:03, 223.58it/s]\u001b[A\u001b[A\n",
            "\n",
            " 23%|██▎       | 233/1000 [00:01<00:03, 230.27it/s]\u001b[A\u001b[A\n",
            "\n",
            " 26%|██▌       | 257/1000 [00:01<00:03, 214.28it/s]\u001b[A\u001b[A\n",
            "\n",
            " 28%|██▊       | 282/1000 [00:01<00:03, 223.56it/s]\u001b[A\u001b[A\n",
            "\n",
            " 31%|███       | 306/1000 [00:01<00:03, 210.91it/s]\u001b[A\u001b[A\n",
            "\n",
            " 33%|███▎      | 328/1000 [00:01<00:03, 211.18it/s]\u001b[A\u001b[A\n",
            "\n",
            " 35%|███▌      | 350/1000 [00:01<00:03, 207.93it/s]\u001b[A\u001b[A\n",
            "\n",
            " 37%|███▋      | 372/1000 [00:01<00:03, 202.54it/s]\u001b[A\u001b[A\n",
            "\n",
            " 39%|███▉      | 393/1000 [00:01<00:03, 191.77it/s]\u001b[A\u001b[A\n",
            "\n",
            " 41%|████▏     | 414/1000 [00:01<00:03, 195.15it/s]\u001b[A\u001b[A\n",
            "\n",
            " 44%|████▎     | 437/1000 [00:02<00:02, 204.35it/s]\u001b[A\u001b[A\n",
            "\n",
            " 46%|████▌     | 458/1000 [00:02<00:02, 199.90it/s]\u001b[A\u001b[A\n",
            "\n",
            " 48%|████▊     | 479/1000 [00:02<00:02, 202.63it/s]\u001b[A\u001b[A\n",
            "\n",
            " 51%|█████     | 509/1000 [00:02<00:02, 223.36it/s]\u001b[A\u001b[A\n",
            "\n",
            " 54%|█████▍    | 542/1000 [00:02<00:01, 247.24it/s]\u001b[A\u001b[A\n",
            "\n",
            " 57%|█████▋    | 571/1000 [00:02<00:01, 258.40it/s]\u001b[A\u001b[A\n",
            "\n",
            " 60%|█████▉    | 599/1000 [00:02<00:01, 260.35it/s]\u001b[A\u001b[A\n",
            "\n",
            " 63%|██████▎   | 626/1000 [00:02<00:01, 220.03it/s]\u001b[A\u001b[A\n",
            "\n",
            " 66%|██████▌   | 658/1000 [00:02<00:01, 240.33it/s]\u001b[A\u001b[A\n",
            "\n",
            " 68%|██████▊   | 684/1000 [00:03<00:01, 240.02it/s]\u001b[A\u001b[A\n",
            "\n",
            " 71%|███████   | 710/1000 [00:03<00:01, 219.18it/s]\u001b[A\u001b[A\n",
            "\n",
            " 73%|███████▎  | 734/1000 [00:03<00:01, 199.50it/s]\u001b[A\u001b[A\n",
            "\n",
            " 76%|███████▌  | 756/1000 [00:03<00:01, 191.63it/s]\u001b[A\u001b[A\n",
            "\n",
            " 78%|███████▊  | 777/1000 [00:03<00:01, 186.91it/s]\u001b[A\u001b[A\n",
            "\n",
            " 81%|████████  | 808/1000 [00:03<00:00, 210.94it/s]\u001b[A\u001b[A\n",
            "\n",
            " 84%|████████▍ | 838/1000 [00:03<00:00, 230.96it/s]\u001b[A\u001b[A\n",
            "\n",
            " 86%|████████▋ | 863/1000 [00:03<00:00, 232.84it/s]\u001b[A\u001b[A\n",
            "\n",
            " 89%|████████▉ | 888/1000 [00:04<00:00, 225.67it/s]\u001b[A\u001b[A\n",
            "\n",
            " 91%|█████████ | 912/1000 [00:04<00:00, 228.67it/s]\u001b[A\u001b[A\n",
            "\n",
            " 94%|█████████▎| 936/1000 [00:04<00:00, 231.57it/s]\u001b[A\u001b[A\n",
            "\n",
            " 96%|█████████▌| 960/1000 [00:04<00:00, 226.54it/s]\u001b[A\u001b[A\n",
            "\n",
            "100%|██████████| 1000/1000 [00:04<00:00, 219.77it/s]\n"
          ],
          "name": "stderr"
        }
      ]
    },
    {
      "cell_type": "code",
      "metadata": {
        "colab": {
          "base_uri": "https://localhost:8080/",
          "height": 529
        },
        "id": "JfuMYpVmx07M",
        "outputId": "d3003013-6656-415d-d2e5-837a760dccf3"
      },
      "source": [
        "threads_df[40:50]"
      ],
      "execution_count": null,
      "outputs": [
        {
          "output_type": "execute_result",
          "data": {
            "text/html": [
              "<div>\n",
              "<style scoped>\n",
              "    .dataframe tbody tr th:only-of-type {\n",
              "        vertical-align: middle;\n",
              "    }\n",
              "\n",
              "    .dataframe tbody tr th {\n",
              "        vertical-align: top;\n",
              "    }\n",
              "\n",
              "    .dataframe thead th {\n",
              "        text-align: right;\n",
              "    }\n",
              "</style>\n",
              "<table border=\"1\" class=\"dataframe\">\n",
              "  <thead>\n",
              "    <tr style=\"text-align: right;\">\n",
              "      <th></th>\n",
              "      <th>date</th>\n",
              "      <th>subject</th>\n",
              "      <th>from</th>\n",
              "      <th>to</th>\n",
              "      <th>body</th>\n",
              "    </tr>\n",
              "  </thead>\n",
              "  <tbody>\n",
              "    <tr>\n",
              "      <th>40</th>\n",
              "      <td>Thu, 31 May 2001 20:16:00 -0700</td>\n",
              "      <td>RE: Assignment &amp; Assumption Agreement</td>\n",
              "      <td>cheryl.nelson@enron.com</td>\n",
              "      <td>sara.shackleton@enron.com</td>\n",
              "      <td>Cheryl Nelson Senior Counsel EB3816 (713) 345-...</td>\n",
              "    </tr>\n",
              "    <tr>\n",
              "      <th>41</th>\n",
              "      <td>Mon, 02 Apr 2001 10:24:00 -0700</td>\n",
              "      <td>Re: FW: Transfer of bond business from ENAC to...</td>\n",
              "      <td>cheryl.nelson@enron.com</td>\n",
              "      <td>sara.shackleton@enron.com</td>\n",
              "      <td>You are correct this has been going on for som...</td>\n",
              "    </tr>\n",
              "    <tr>\n",
              "      <th>42</th>\n",
              "      <td>Fri, 26 Oct 2001 08:46:41 -0700</td>\n",
              "      <td>RE: Tunnel of Fundge?</td>\n",
              "      <td>lynn.aven@enron.com</td>\n",
              "      <td>sara.shackleton@enron.com</td>\n",
              "      <td>Would you like to have lunch today?  If you ar...</td>\n",
              "    </tr>\n",
              "    <tr>\n",
              "      <th>43</th>\n",
              "      <td>Fri, 01 Feb 2002 10:56:03 -0800</td>\n",
              "      <td>RE: RMT</td>\n",
              "      <td>sara.shackleton@enron.com</td>\n",
              "      <td>susan.musch@enron.com, h..george@enron.com</td>\n",
              "      <td>When you like to meet on RMT today?  My mornin...</td>\n",
              "    </tr>\n",
              "    <tr>\n",
              "      <th>44</th>\n",
              "      <td>Fri, 19 Oct 2001 06:15:35 -0700</td>\n",
              "      <td>FW: Security Smart ID Tags-Off Property Usage</td>\n",
              "      <td>bodyshop@enron.com</td>\n",
              "      <td>bodyshop@enron.com</td>\n",
              "      <td></td>\n",
              "    </tr>\n",
              "    <tr>\n",
              "      <th>45</th>\n",
              "      <td>Fri, 07 Dec 2001 10:56:13 -0800</td>\n",
              "      <td>RE: Enron Credit Inc.</td>\n",
              "      <td>edmund.cooper@enron.com</td>\n",
              "      <td>sara.shackleton@enron.com</td>\n",
              "      <td>I have not received anything from anyone in Lo...</td>\n",
              "    </tr>\n",
              "    <tr>\n",
              "      <th>46</th>\n",
              "      <td>Tue, 23 Oct 2001 07:17:12 -0700</td>\n",
              "      <td>RE: Clorox comments to the ISDA Master Agreeme...</td>\n",
              "      <td>jarrod.cyprow@enron.com</td>\n",
              "      <td>sara.shackleton@enron.com, rebecca.phillips@en...</td>\n",
              "      <td>Thanks, Rebecca: Per our conversation, attache...</td>\n",
              "    </tr>\n",
              "    <tr>\n",
              "      <th>47</th>\n",
              "      <td>Fri, 04 Jan 2002 02:27:22 -0800</td>\n",
              "      <td>RE: BS Reports</td>\n",
              "      <td>simon.hemsley@enron.com</td>\n",
              "      <td>sara.shackleton@enron.com</td>\n",
              "      <td>We tried to call them before Christmas but the...</td>\n",
              "    </tr>\n",
              "    <tr>\n",
              "      <th>48</th>\n",
              "      <td>Fri, 31 Aug 2001 16:04:21 -0700</td>\n",
              "      <td>FW: Bridgeline EOL Amendment</td>\n",
              "      <td>legal &lt;.taylor@enron.com&gt;</td>\n",
              "      <td>sara.shackleton@enron.com</td>\n",
              "      <td>Here is Bridgeline.  They do not trade power.</td>\n",
              "    </tr>\n",
              "    <tr>\n",
              "      <th>49</th>\n",
              "      <td>Thu, 21 Feb 2002 11:10:03 -0800</td>\n",
              "      <td>RE: TXU</td>\n",
              "      <td>neil.kelly@enron.com</td>\n",
              "      <td>sara.shackleton@enron.com</td>\n",
              "      <td>can you get into your voice mail at X53913? Sa...</td>\n",
              "    </tr>\n",
              "  </tbody>\n",
              "</table>\n",
              "</div>"
            ],
            "text/plain": [
              "                               date  ...                                               body\n",
              "40  Thu, 31 May 2001 20:16:00 -0700  ...  Cheryl Nelson Senior Counsel EB3816 (713) 345-...\n",
              "41  Mon, 02 Apr 2001 10:24:00 -0700  ...  You are correct this has been going on for som...\n",
              "42  Fri, 26 Oct 2001 08:46:41 -0700  ...  Would you like to have lunch today?  If you ar...\n",
              "43  Fri, 01 Feb 2002 10:56:03 -0800  ...  When you like to meet on RMT today?  My mornin...\n",
              "44  Fri, 19 Oct 2001 06:15:35 -0700  ...                                                   \n",
              "45  Fri, 07 Dec 2001 10:56:13 -0800  ...  I have not received anything from anyone in Lo...\n",
              "46  Tue, 23 Oct 2001 07:17:12 -0700  ...  Thanks, Rebecca: Per our conversation, attache...\n",
              "47  Fri, 04 Jan 2002 02:27:22 -0800  ...  We tried to call them before Christmas but the...\n",
              "48  Fri, 31 Aug 2001 16:04:21 -0700  ...     Here is Bridgeline.  They do not trade power. \n",
              "49  Thu, 21 Feb 2002 11:10:03 -0800  ...  can you get into your voice mail at X53913? Sa...\n",
              "\n",
              "[10 rows x 5 columns]"
            ]
          },
          "metadata": {
            "tags": []
          },
          "execution_count": 148
        }
      ]
    },
    {
      "cell_type": "markdown",
      "metadata": {
        "id": "zeL2xC1rbw1Y"
      },
      "source": [
        "**clean emails: remove extra characters and symbols** "
      ]
    },
    {
      "cell_type": "code",
      "metadata": {
        "id": "1azTkJ1zq9Ej"
      },
      "source": [
        "def clean_email_df(df):\r\n",
        "    '''\r\n",
        "    These remove symbols and character patterns that don't aid in producing a good summary. \r\n",
        "    '''\r\n",
        "    #Removing strings related to attatchments and certain non numerical characters.\r\n",
        "    patterns = [\"\\[IMAGE\\]\",\"-\", \"_\", \"\\*\", \"+\",\"\\\".\\\"\"]\r\n",
        "    for pattern in patterns:\r\n",
        "        df['body'] = pd.Series(df['body']).str.replace(pattern, \"\")\r\n",
        "    \r\n",
        "    #Remove multiple spaces. \r\n",
        "    df['body'] = df['body'].replace('\\s+', ' ', regex=True)\r\n",
        "\r\n",
        "    #Blanks are replaced with NaN in the whole dataframe. Then rows with a 'NaN' in the body will be dropped. \r\n",
        "    df = df.replace('',np.NaN)\r\n",
        "    df = df.dropna(subset=['body'])\r\n",
        "\r\n",
        "    #Remove all Duplicate emails \r\n",
        "    #df = df.drop_duplicates(subset='body')\r\n",
        "    return df"
      ],
      "execution_count": null,
      "outputs": []
    },
    {
      "cell_type": "code",
      "metadata": {
        "id": "Rg798JLnrB-V"
      },
      "source": [
        "cleaned_threads_df = clean_email_df(threads_df)"
      ],
      "execution_count": null,
      "outputs": []
    },
    {
      "cell_type": "code",
      "metadata": {
        "colab": {
          "base_uri": "https://localhost:8080/",
          "height": 529
        },
        "id": "IPs1xolIzq9_",
        "outputId": "fdd1b2c8-6902-4cf9-b085-110baedb7622"
      },
      "source": [
        "cleaned_threads_df[10:20]"
      ],
      "execution_count": null,
      "outputs": [
        {
          "output_type": "execute_result",
          "data": {
            "text/html": [
              "<div>\n",
              "<style scoped>\n",
              "    .dataframe tbody tr th:only-of-type {\n",
              "        vertical-align: middle;\n",
              "    }\n",
              "\n",
              "    .dataframe tbody tr th {\n",
              "        vertical-align: top;\n",
              "    }\n",
              "\n",
              "    .dataframe thead th {\n",
              "        text-align: right;\n",
              "    }\n",
              "</style>\n",
              "<table border=\"1\" class=\"dataframe\">\n",
              "  <thead>\n",
              "    <tr style=\"text-align: right;\">\n",
              "      <th></th>\n",
              "      <th>date</th>\n",
              "      <th>subject</th>\n",
              "      <th>from</th>\n",
              "      <th>to</th>\n",
              "      <th>body</th>\n",
              "    </tr>\n",
              "  </thead>\n",
              "  <tbody>\n",
              "    <tr>\n",
              "      <th>10</th>\n",
              "      <td>2001-06-20 14:52:43+00:00</td>\n",
              "      <td>RE: ISI/Bear Prime Broker Agreement and Credit...</td>\n",
              "      <td>cheryl.nelson@enron.com</td>\n",
              "      <td>keegan.farrell@enron.com</td>\n",
              "      <td>I am implementing the marked changes as we spe...</td>\n",
              "    </tr>\n",
              "    <tr>\n",
              "      <th>11</th>\n",
              "      <td>2001-08-06 13:13:18+00:00</td>\n",
              "      <td>RE: Cheryl Nelson</td>\n",
              "      <td>cheryl.nelson@enron.com</td>\n",
              "      <td>keegan.farrell@enron.com, susan.bailey@enron.c...</td>\n",
              "      <td>Regards,</td>\n",
              "    </tr>\n",
              "    <tr>\n",
              "      <th>12</th>\n",
              "      <td>2001-05-21 10:40:00+00:00</td>\n",
              "      <td>Re: FW: Document</td>\n",
              "      <td>cheryl.nelson@enron.com</td>\n",
              "      <td>tom.doukas@enron.com</td>\n",
              "      <td>such agreement done recently with another Enro...</td>\n",
              "    </tr>\n",
              "    <tr>\n",
              "      <th>14</th>\n",
              "      <td>2001-08-30 20:51:44+00:00</td>\n",
              "      <td>FW: Cheryl Nelson on Vacation</td>\n",
              "      <td>keegan.farrell@enron.com</td>\n",
              "      <td>kayla.heitmeyer@enron.com, gloria.alvarez@enro...</td>\n",
              "      <td>I just received word that Cheryl will be on va...</td>\n",
              "    </tr>\n",
              "    <tr>\n",
              "      <th>15</th>\n",
              "      <td>2001-06-29 15:27:08+00:00</td>\n",
              "      <td>FW: Updates for Brokerage List</td>\n",
              "      <td>cheryl.nelson@enron.com</td>\n",
              "      <td>sara.shackleton@enron.com</td>\n",
              "      <td>SNL Comments have been sent. CSFB we executed ...</td>\n",
              "    </tr>\n",
              "    <tr>\n",
              "      <th>16</th>\n",
              "      <td>2001-08-02 14:34:19+00:00</td>\n",
              "      <td>FW: On Behalf of Cheryl Nelson - Memo Re: Ocea...</td>\n",
              "      <td>cheryl.nelson@enron.com</td>\n",
              "      <td>sara.shackleton@enron.com</td>\n",
              "      <td>Attached for your review are our comments to t...</td>\n",
              "    </tr>\n",
              "    <tr>\n",
              "      <th>19</th>\n",
              "      <td>2001-03-30 13:37:00+00:00</td>\n",
              "      <td>FW: Assignment and Assumption Agreement</td>\n",
              "      <td>cheryl.nelson@enron.com</td>\n",
              "      <td>sara.shackleton@enron.com, tom.doukas@enron.com</td>\n",
              "      <td>EB3816 (713) 3454693 Forwarded by Cheryl Nelso...</td>\n",
              "    </tr>\n",
              "    <tr>\n",
              "      <th>20</th>\n",
              "      <td>2001-07-25 19:57:56+00:00</td>\n",
              "      <td>RE: Cheryl Nelson - Leaving at 2:30 pm today</td>\n",
              "      <td>cheryl.nelson@enron.com</td>\n",
              "      <td>keegan.farrell@enron.com, kayla.heitmeyer@enro...</td>\n",
              "      <td>FYI, Cheryl will be leaving this afternoon to ...</td>\n",
              "    </tr>\n",
              "    <tr>\n",
              "      <th>21</th>\n",
              "      <td>2001-08-07 00:38:23+00:00</td>\n",
              "      <td>RE: Cheryl Nelson</td>\n",
              "      <td>cheryl.nelson@enron.com</td>\n",
              "      <td>keegan.farrell@enron.com, susan.bailey@enron.c...</td>\n",
              "      <td>Regards,</td>\n",
              "    </tr>\n",
              "    <tr>\n",
              "      <th>22</th>\n",
              "      <td>2001-08-08 15:46:01+00:00</td>\n",
              "      <td>RE: all agreements for Hickerson group</td>\n",
              "      <td>cheryl.nelson@enron.com</td>\n",
              "      <td>sara.shackleton@enron.com</td>\n",
              "      <td>Please review all agreements for Gary Hickerso...</td>\n",
              "    </tr>\n",
              "  </tbody>\n",
              "</table>\n",
              "</div>"
            ],
            "text/plain": [
              "                        date  ...                                               body\n",
              "10 2001-06-20 14:52:43+00:00  ...  I am implementing the marked changes as we spe...\n",
              "11 2001-08-06 13:13:18+00:00  ...                                          Regards, \n",
              "12 2001-05-21 10:40:00+00:00  ...  such agreement done recently with another Enro...\n",
              "14 2001-08-30 20:51:44+00:00  ...  I just received word that Cheryl will be on va...\n",
              "15 2001-06-29 15:27:08+00:00  ...  SNL Comments have been sent. CSFB we executed ...\n",
              "16 2001-08-02 14:34:19+00:00  ...  Attached for your review are our comments to t...\n",
              "19 2001-03-30 13:37:00+00:00  ...  EB3816 (713) 3454693 Forwarded by Cheryl Nelso...\n",
              "20 2001-07-25 19:57:56+00:00  ...  FYI, Cheryl will be leaving this afternoon to ...\n",
              "21 2001-08-07 00:38:23+00:00  ...                                          Regards, \n",
              "22 2001-08-08 15:46:01+00:00  ...  Please review all agreements for Gary Hickerso...\n",
              "\n",
              "[10 rows x 5 columns]"
            ]
          },
          "metadata": {
            "tags": []
          },
          "execution_count": 152
        }
      ]
    },
    {
      "cell_type": "markdown",
      "metadata": {
        "id": "wqFErBoSb8HE"
      },
      "source": [
        "**removed stop words and tokenized into sentences**"
      ]
    },
    {
      "cell_type": "code",
      "metadata": {
        "id": "A7s0wcqcrNOf"
      },
      "source": [
        "def remove_stopwords(sen):\r\n",
        "    '''\r\n",
        "    This function removes stopwords\r\n",
        "    '''\r\n",
        "    stop_words = stopwords.words('english')\r\n",
        "    sen_new = \" \".join([i for i in sen if i not in stop_words])\r\n",
        "    return sen_new\r\n",
        "\r\n",
        "def tokenize_email(text):\r\n",
        "    '''\r\n",
        "    This function splits up the body into sentence tokens and removes stop words. \r\n",
        "    '''\r\n",
        "    clean_sentences = sent_tokenize(text, language='english')\r\n",
        "    #removing punctuation, numbers and special characters. Then lowercasing. \r\n",
        "    clean_sentences = [re.sub('[^a-zA-Z ]', '',s) for s in clean_sentences]\r\n",
        "    clean_sentences = [s.lower() for s in clean_sentences]\r\n",
        "    clean_sentences = [remove_stopawords(r.split()) for r in clean_sentences]\r\n",
        "    return clean_sentences"
      ],
      "execution_count": null,
      "outputs": []
    },
    {
      "cell_type": "markdown",
      "metadata": {
        "id": "fC1KwDTDdbo_"
      },
      "source": [
        "**extract sentences and  tokenized sentences on fine grained level** "
      ]
    },
    {
      "cell_type": "code",
      "metadata": {
        "id": "8i9jzhwQrXg0"
      },
      "source": [
        "#This tokenizing will be the extracted sentences that may be chosen to form the email summaries. \r\n",
        "cleaned_threads_df['extractive_sentences'] = cleaned_threads_df['body'].apply(sent_tokenize)\r\n",
        "#Splitting the text in emails into cleaned sentences\r\n",
        "cleaned_threads_df['tokenized_body'] = cleaned_threads_df['body'].apply(tokenize_email)\r\n",
        "#Tokenizing the bodies might have revealed more duplicate emails that should be droped. \r\n",
        "cleaned_threads_df = cleaned_threads_df.loc[cleaned_threads_df.astype(str).drop_duplicates(subset='tokenized_body').index]"
      ],
      "execution_count": null,
      "outputs": []
    },
    {
      "cell_type": "markdown",
      "metadata": {
        "id": "gmqPNlKpdpFh"
      },
      "source": [
        "**remove threads containing only 1 sentence**"
      ]
    },
    {
      "cell_type": "code",
      "metadata": {
        "id": "iD7tuQzL5_cE"
      },
      "source": [
        "cleaned_threads_df['sent_count'] = cleaned_threads_df.tokenized_body.apply(lambda x: len(x))\r\n",
        "cleaned_threads_df = cleaned_threads_df.loc[cleaned_threads_df['sent_count']>1]"
      ],
      "execution_count": null,
      "outputs": []
    },
    {
      "cell_type": "markdown",
      "metadata": {
        "id": "e2q9FDFyd0zQ"
      },
      "source": [
        "**Tokenize words and get word frequenceies**"
      ]
    },
    {
      "cell_type": "code",
      "metadata": {
        "id": "ziskAsiur7PJ"
      },
      "source": [
        "def tokenize_word(sentences):\r\n",
        "    tokens = []\r\n",
        "    for sentence in sentences:\r\n",
        "        tokens = word_tokenize(sentence)\r\n",
        "    return tokens"
      ],
      "execution_count": null,
      "outputs": []
    },
    {
      "cell_type": "code",
      "metadata": {
        "id": "K5X82o6Gr9BO",
        "colab": {
          "base_uri": "https://localhost:8080/"
        },
        "outputId": "c7f1039c-035b-4e97-a83a-e5e6c7768e25"
      },
      "source": [
        "cleaned_threads_df['tokenized_words'] = cleaned_threads_df['tokenized_body'].apply(tokenize_word)"
      ],
      "execution_count": null,
      "outputs": [
        {
          "output_type": "stream",
          "text": [
            "/usr/local/lib/python3.6/dist-packages/ipykernel_launcher.py:1: SettingWithCopyWarning: \n",
            "A value is trying to be set on a copy of a slice from a DataFrame.\n",
            "Try using .loc[row_indexer,col_indexer] = value instead\n",
            "\n",
            "See the caveats in the documentation: https://pandas.pydata.org/pandas-docs/stable/user_guide/indexing.html#returning-a-view-versus-a-copy\n",
            "  \"\"\"Entry point for launching an IPython kernel.\n"
          ],
          "name": "stderr"
        }
      ]
    },
    {
      "cell_type": "code",
      "metadata": {
        "colab": {
          "base_uri": "https://localhost:8080/"
        },
        "id": "DlJjMkuhBgjf",
        "outputId": "4e8aa114-0080-4c96-d39f-bbae7c0ea1d6"
      },
      "source": [
        "# cleaned_threads_df.extractive_sentences[0]"
      ],
      "execution_count": null,
      "outputs": [
        {
          "output_type": "execute_result",
          "data": {
            "text/plain": [
              "[\"thanks, Tanya and Debbie: Is Monica working on sending us copies of all of the LC's that expire this month?\",\n",
              " 'Carol St. Clair EB 4539 7138533989 (phone) 7136463393 (fax) 2813821943 (cell phone) 8774545506 (pager) 2818908862 (home fax) Thanks, Max Sonnonstine']"
            ]
          },
          "metadata": {
            "tags": []
          },
          "execution_count": 230
        }
      ]
    },
    {
      "cell_type": "code",
      "metadata": {
        "colab": {
          "base_uri": "https://localhost:8080/"
        },
        "id": "Jcpqkw8GIxt8",
        "outputId": "b28549dd-303c-48c6-a28e-15c16676eed2"
      },
      "source": [
        "# cleaned_threads_df.tokenized_body[0]"
      ],
      "execution_count": null,
      "outputs": [
        {
          "output_type": "execute_result",
          "data": {
            "text/plain": [
              "['thanks tanya debbie monica working sending us copies lcs expire month',\n",
              " 'carol st clair eb phone fax cell phone pager home fax thanks max sonnonstine']"
            ]
          },
          "metadata": {
            "tags": []
          },
          "execution_count": 233
        }
      ]
    },
    {
      "cell_type": "markdown",
      "metadata": {
        "id": "0zCsRfYtgo_G"
      },
      "source": [
        "# Word Frquencies"
      ]
    },
    {
      "cell_type": "code",
      "metadata": {
        "id": "j9-vPD6krdRn"
      },
      "source": [
        "#Get word frequencies from tokenized word lists\r\n",
        "def get_word_freq(df):\r\n",
        "    freq_words=dict()\r\n",
        "    for tokens in df.tokenized_words:\r\n",
        "        for token in tokens:\r\n",
        "            if token in freq_words:\r\n",
        "                freq_words[token] += 1\r\n",
        "            else: \r\n",
        "                freq_words[token] = 1\r\n",
        "    return freq_words"
      ],
      "execution_count": null,
      "outputs": []
    },
    {
      "cell_type": "code",
      "metadata": {
        "colab": {
          "base_uri": "https://localhost:8080/"
        },
        "id": "knBiMbmrsAFg",
        "outputId": "8a643290-7925-4690-dab2-0d002cebca43"
      },
      "source": [
        "#Creating word dictionary to understand word frequencies. \r\n",
        "freq_words = get_word_freq(cleaned_threads_df)\r\n",
        "print('Unique words: {:,}'.format(len(freq_words)))"
      ],
      "execution_count": null,
      "outputs": [
        {
          "output_type": "stream",
          "text": [
            "Unique words: 226\n"
          ],
          "name": "stdout"
        }
      ]
    },
    {
      "cell_type": "code",
      "metadata": {
        "colab": {
          "base_uri": "https://localhost:8080/",
          "height": 783
        },
        "id": "FD1dRa6LsDsj",
        "outputId": "4213cc88-b7b0-44c3-92dd-91e28ae18f46"
      },
      "source": [
        "\r\n",
        "word_data = []\r\n",
        "#Sort dictionary by highest word frequency. \r\n",
        "for key, value in sorted(freq_words.items(), key=lambda item: item[1], reverse=True):\r\n",
        "    word_data.append([key, freq_words[key]])\r\n",
        "\r\n",
        "#Prepare to plot bar graph of top words. \r\n",
        "#Create dataframe with Word and Frequency, then sort in Descending order. \r\n",
        "freq_words_df = pd.DataFrame.from_dict(freq_words, orient='index').reset_index()\r\n",
        "freq_words_df = freq_words_df.rename(columns={\"index\": \"Word\", 0: \"Frequency\"})\r\n",
        "freq_words_df = freq_words_df.sort_values(by=['Frequency'],ascending = False)\r\n",
        "freq_words_df.reset_index(drop = True, inplace=True)\r\n",
        "freq_words_df.head(30).plot(x='Word', kind='bar', figsize=(20,10))"
      ],
      "execution_count": null,
      "outputs": [
        {
          "output_type": "execute_result",
          "data": {
            "text/plain": [
              "<matplotlib.axes._subplots.AxesSubplot at 0x7f815ae78fd0>"
            ]
          },
          "metadata": {
            "tags": []
          },
          "execution_count": 197
        },
        {
          "output_type": "display_data",
          "data": {
            "image/png": "[encoded data removed]",
            "text/plain": [
              "<Figure size 1440x720 with 1 Axes>"
            ]
          },
          "metadata": {
            "tags": [],
            "needs_background": "light"
          }
        }
      ]
    },
    {
      "cell_type": "markdown",
      "metadata": {
        "id": "9Z5LbIJXDYSJ"
      },
      "source": [
        "# extract_word_vectors"
      ]
    },
    {
      "cell_type": "code",
      "metadata": {
        "colab": {
          "base_uri": "https://localhost:8080/"
        },
        "id": "zZ85-zyzZs8Z",
        "outputId": "42b1a80c-8a02-40e6-a04b-0929555020aa"
      },
      "source": [
        "! wget http://nlp.stanford.edu/data/glove.6B.zip\r\n",
        "! unzip glove*.zip"
      ],
      "execution_count": null,
      "outputs": [
        {
          "output_type": "stream",
          "text": [
            "--2020-12-13 11:59:07--  http://nlp.stanford.edu/data/glove.6B.zip\n",
            "Resolving nlp.stanford.edu (nlp.stanford.edu)... 171.64.67.140\n",
            "Connecting to nlp.stanford.edu (nlp.stanford.edu)|171.64.67.140|:80... connected.\n",
            "HTTP request sent, awaiting response... 302 Found\n",
            "Location: https://nlp.stanford.edu/data/glove.6B.zip [following]\n",
            "--2020-12-13 11:59:07--  https://nlp.stanford.edu/data/glove.6B.zip\n",
            "Connecting to nlp.stanford.edu (nlp.stanford.edu)|171.64.67.140|:443... connected.\n",
            "HTTP request sent, awaiting response... 301 Moved Permanently\n",
            "Location: http://downloads.cs.stanford.edu/nlp/data/glove.6B.zip [following]\n",
            "--2020-12-13 11:59:07--  http://downloads.cs.stanford.edu/nlp/data/glove.6B.zip\n",
            "Resolving downloads.cs.stanford.edu (downloads.cs.stanford.edu)... 171.64.64.22\n",
            "Connecting to downloads.cs.stanford.edu (downloads.cs.stanford.edu)|171.64.64.22|:80... connected.\n",
            "HTTP request sent, awaiting response... 200 OK\n",
            "Length: 862182613 (822M) [application/zip]\n",
            "Saving to: ‘glove.6B.zip’\n",
            "\n",
            "glove.6B.zip        100%[===================>] 822.24M  2.05MB/s    in 6m 26s  \n",
            "\n",
            "2020-12-13 12:05:33 (2.13 MB/s) - ‘glove.6B.zip’ saved [862182613/862182613]\n",
            "\n",
            "Archive:  glove.6B.zip\n",
            "  inflating: glove.6B.50d.txt        \n",
            "  inflating: glove.6B.100d.txt       \n",
            "  inflating: glove.6B.200d.txt       \n",
            "  inflating: glove.6B.300d.txt       \n"
          ],
          "name": "stdout"
        }
      ]
    },
    {
      "cell_type": "code",
      "metadata": {
        "id": "8kuEKKgnWgsP"
      },
      "source": [
        "def extract_word_vectors():\r\n",
        "    '''This returns word vectors from the pretrained glove model. '''\r\n",
        "    word_embeddings = {}\r\n",
        "    f = open('glove.6B.300d.txt', encoding='utf-8')\r\n",
        "    for line in f:\r\n",
        "        values = line.split()\r\n",
        "        word = values[0]\r\n",
        "        coefs = np.asarray(values[1:], dtype='float32')\r\n",
        "        word_embeddings[word] = coefs\r\n",
        "    f.close()\r\n",
        "    return word_embeddings"
      ],
      "execution_count": null,
      "outputs": []
    },
    {
      "cell_type": "markdown",
      "metadata": {
        "id": "Vhf6rR7zDpJ0"
      },
      "source": [
        "# get_tokenized_sentences"
      ]
    },
    {
      "cell_type": "code",
      "metadata": {
        "id": "Df4zN-RcW87t"
      },
      "source": [
        "def get_tokenized_sentences(df):\r\n",
        "    '''\r\n",
        "    The tokenized sentences were done during preprocessing, \r\n",
        "    so this function retrieves them from the dataframe, then flattens the list. \r\n",
        "    '''\r\n",
        "    if (type(df.extractive_sentences) != list):\r\n",
        "        clean_sentences = df.tokenized_body.tolist()\r\n",
        "    else:\r\n",
        "        clean_sentences = df.tokenized_body\r\n",
        "    #flatten list\r\n",
        "    clean_sentences = [y for x in clean_sentences for y in x]\r\n",
        "    return clean_sentences"
      ],
      "execution_count": null,
      "outputs": []
    },
    {
      "cell_type": "markdown",
      "metadata": {
        "id": "KSBKeUalDcwO"
      },
      "source": [
        "# get_extractive_sentences"
      ]
    },
    {
      "cell_type": "code",
      "metadata": {
        "id": "4aSD_R3AW64j"
      },
      "source": [
        "def get_extractive_sentences(df):\r\n",
        "    '''Retrieve original email sentences and index them. This will be used to generate the extracted summaries. '''\r\n",
        "    if (type(df.extractive_sentences) != list):\r\n",
        "        sentences_list = df.extractive_sentences.tolist()\r\n",
        "    else:\r\n",
        "        sentences_list = df.extractive_sentences\r\n",
        "    # flatten list as tuples containting (sentence, dataframe index)  to reassociate summary with original email. \r\n",
        "    sentences = []\r\n",
        "    for counter, sublist in enumerate(sentences_list):\r\n",
        "        for item in sublist:\r\n",
        "            sentences.append([counter, item])\r\n",
        "        break\r\n",
        "    return sentences"
      ],
      "execution_count": null,
      "outputs": []
    },
    {
      "cell_type": "markdown",
      "metadata": {
        "id": "UjR8MM7cDtKL"
      },
      "source": [
        "# create_sentence_vectors"
      ]
    },
    {
      "cell_type": "code",
      "metadata": {
        "id": "QBHwSf4CXBv4"
      },
      "source": [
        "def create_sentence_vectors(clean_sentences, word_embeddings):\r\n",
        "    '''Create sentence_vectors for each tokenized sentence using the word_embeddings model. '''\r\n",
        "    sentence_vectors = []\r\n",
        "    for i in clean_sentences:\r\n",
        "        if len(i) != 0:\r\n",
        "            v = sum([word_embeddings.get(w, np.zeros((300,))) for w in i.split()])/(len(i.split())+0.001)\r\n",
        "        else:\r\n",
        "            v = np.zeros((300,))\r\n",
        "        sentence_vectors.append(v)\r\n",
        "    return sentence_vectors"
      ],
      "execution_count": null,
      "outputs": []
    },
    {
      "cell_type": "markdown",
      "metadata": {
        "id": "wooGrgS8Dwys"
      },
      "source": [
        "# rank_sentences"
      ]
    },
    {
      "cell_type": "code",
      "metadata": {
        "id": "fwwWuldSXD7p"
      },
      "source": [
        "def rank_sentences(sentences, sentence_vectors):\r\n",
        "    '''This function takes in a list of sentences to input into TextRank. The resulting ranks are what the model \r\n",
        "    calculated as the most important sentences. '''\r\n",
        "    sim_mat = np.zeros([len(sentences), len(sentences)])\r\n",
        "    #Initialize matrix with cosine similarity scores. \r\n",
        "    for i in range(len(sentences)):\r\n",
        "        for j in range(len(sentences)):\r\n",
        "            if i != j:\r\n",
        "                shape_len = len(sentence_vectors[i])\r\n",
        "                sim_mat[i][j] = cosine_similarity(sentence_vectors[i].reshape(1,shape_len), sentence_vectors[j].reshape(1,shape_len))[0,0]\r\n",
        "    nx_graph = nx.from_numpy_array(sim_mat)\r\n",
        "\r\n",
        "    #Pair sentence with it's similarity score then sort.    \r\n",
        "    try:\r\n",
        "        scores = nx.pagerank(nx_graph)\r\n",
        "        ranked_sentences = sorted(((scores[i],s[0],s[1]) for i,s in enumerate(sentences)), reverse=True)\r\n",
        "        \r\n",
        "    except:\r\n",
        "        ranked_sentences = sorted(((0,s[0],s[1]) for i,s in enumerate(sentences)), reverse=True)\r\n",
        "\r\n",
        "    return ranked_sentences"
      ],
      "execution_count": null,
      "outputs": []
    },
    {
      "cell_type": "markdown",
      "metadata": {
        "id": "z8jH9JXsD0gH"
      },
      "source": [
        "# summarize_emails"
      ]
    },
    {
      "cell_type": "code",
      "metadata": {
        "id": "lfbqAYiWXFiy"
      },
      "source": [
        "def summarize_emails(word_embeddings, masked_df):\r\n",
        "    '''Function to wrap up summarization process'''\r\n",
        "    if len(masked_df) != 1:\r\n",
        "        print(\"Total number of emails to summarize: \" + str(len(masked_df)))\r\n",
        "\r\n",
        "    sentences = get_extractive_sentences(masked_df)\r\n",
        "\r\n",
        "    clean_sentences = get_tokenized_sentences(masked_df)\r\n",
        "    #Generate sentence vectors\r\n",
        "    sentence_vectors = create_sentence_vectors(clean_sentences, word_embeddings)\r\n",
        "    #Create a list of ranked sentences. \r\n",
        "    ranked_sentences = rank_sentences(sentences, sentence_vectors)\r\n",
        "\r\n",
        "    return ranked_sentences"
      ],
      "execution_count": null,
      "outputs": []
    },
    {
      "cell_type": "markdown",
      "metadata": {
        "id": "_8KyYunKEAMP"
      },
      "source": [
        "# Ranked Sentences with their scores"
      ]
    },
    {
      "cell_type": "code",
      "metadata": {
        "colab": {
          "base_uri": "https://localhost:8080/",
          "height": 419
        },
        "id": "FHNchBK2Xdh1",
        "outputId": "9c1d1ae5-bfcc-45f9-dd4b-249daf6becac"
      },
      "source": [
        "\r\n",
        "word_embeddings = extract_word_vectors()\r\n",
        "row_len = len(cleaned_threads_df)\r\n",
        "score = []\r\n",
        "sentence = []\r\n",
        "index = []\r\n",
        "for i in range(row_len):\r\n",
        "  df=pd.DataFrame(cleaned_threads_df.iloc[i]).T\r\n",
        "  rank_tuple = summarize_emails(word_embeddings, df)\r\n",
        "  for t in rank_tuple:\r\n",
        "    index.append(i)\r\n",
        "    score.append(t[0])\r\n",
        "    sentence.append(t[2])\r\n",
        "\r\n",
        "\r\n",
        "ranke_df = pd.DataFrame()\r\n",
        "ranke_df['Index'] = pd.Series(index)\r\n",
        "ranke_df['Sentence'] = pd.Series(sentence)\r\n",
        "ranke_df['Score'] = pd.Series(score)\r\n",
        "ranke_df\r\n",
        "\r\n"
      ],
      "execution_count": null,
      "outputs": [
        {
          "output_type": "execute_result",
          "data": {
            "text/html": [
              "<div>\n",
              "<style scoped>\n",
              "    .dataframe tbody tr th:only-of-type {\n",
              "        vertical-align: middle;\n",
              "    }\n",
              "\n",
              "    .dataframe tbody tr th {\n",
              "        vertical-align: top;\n",
              "    }\n",
              "\n",
              "    .dataframe thead th {\n",
              "        text-align: right;\n",
              "    }\n",
              "</style>\n",
              "<table border=\"1\" class=\"dataframe\">\n",
              "  <thead>\n",
              "    <tr style=\"text-align: right;\">\n",
              "      <th></th>\n",
              "      <th>Index</th>\n",
              "      <th>Sentence</th>\n",
              "      <th>Score</th>\n",
              "    </tr>\n",
              "  </thead>\n",
              "  <tbody>\n",
              "    <tr>\n",
              "      <th>0</th>\n",
              "      <td>0</td>\n",
              "      <td>thanks, Tanya and Debbie: Is Monica working on...</td>\n",
              "      <td>0.500000</td>\n",
              "    </tr>\n",
              "    <tr>\n",
              "      <th>1</th>\n",
              "      <td>0</td>\n",
              "      <td>Carol St. Clair EB 4539 7138533989 (phone) 713...</td>\n",
              "      <td>0.500000</td>\n",
              "    </tr>\n",
              "    <tr>\n",
              "      <th>2</th>\n",
              "      <td>1</td>\n",
              "      <td>Please check the package to make sure everythi...</td>\n",
              "      <td>0.107890</td>\n",
              "    </tr>\n",
              "    <tr>\n",
              "      <th>3</th>\n",
              "      <td>1</td>\n",
              "      <td>I would request you send the originals to me i...</td>\n",
              "      <td>0.104821</td>\n",
              "    </tr>\n",
              "    <tr>\n",
              "      <th>4</th>\n",
              "      <td>1</td>\n",
              "      <td>As mentioned on the phone, a large portion of ...</td>\n",
              "      <td>0.098023</td>\n",
              "    </tr>\n",
              "    <tr>\n",
              "      <th>...</th>\n",
              "      <td>...</td>\n",
              "      <td>...</td>\n",
              "      <td>...</td>\n",
              "    </tr>\n",
              "    <tr>\n",
              "      <th>951</th>\n",
              "      <td>68</td>\n",
              "      <td>&gt;&gt;\"Thankfully, I was saved.</td>\n",
              "      <td>0.008849</td>\n",
              "    </tr>\n",
              "    <tr>\n",
              "      <th>952</th>\n",
              "      <td>68</td>\n",
              "      <td>Kyle was &gt;&gt;valedictorian of our class.</td>\n",
              "      <td>0.006813</td>\n",
              "    </tr>\n",
              "    <tr>\n",
              "      <th>953</th>\n",
              "      <td>69</td>\n",
              "      <td>Regards, It seems that tomorrow, Friday, does ...</td>\n",
              "      <td>0.371151</td>\n",
              "    </tr>\n",
              "    <tr>\n",
              "      <th>954</th>\n",
              "      <td>69</td>\n",
              "      <td>Does this fit your calendar as well?</td>\n",
              "      <td>0.333915</td>\n",
              "    </tr>\n",
              "    <tr>\n",
              "      <th>955</th>\n",
              "      <td>69</td>\n",
              "      <td>thanks,</td>\n",
              "      <td>0.294934</td>\n",
              "    </tr>\n",
              "  </tbody>\n",
              "</table>\n",
              "<p>956 rows × 3 columns</p>\n",
              "</div>"
            ],
            "text/plain": [
              "     Index                                           Sentence     Score\n",
              "0        0  thanks, Tanya and Debbie: Is Monica working on...  0.500000\n",
              "1        0  Carol St. Clair EB 4539 7138533989 (phone) 713...  0.500000\n",
              "2        1  Please check the package to make sure everythi...  0.107890\n",
              "3        1  I would request you send the originals to me i...  0.104821\n",
              "4        1  As mentioned on the phone, a large portion of ...  0.098023\n",
              "..     ...                                                ...       ...\n",
              "951     68                        >>\"Thankfully, I was saved.  0.008849\n",
              "952     68             Kyle was >>valedictorian of our class.  0.006813\n",
              "953     69  Regards, It seems that tomorrow, Friday, does ...  0.371151\n",
              "954     69               Does this fit your calendar as well?  0.333915\n",
              "955     69                                            thanks,  0.294934\n",
              "\n",
              "[956 rows x 3 columns]"
            ]
          },
          "metadata": {
            "tags": []
          },
          "execution_count": 380
        }
      ]
    }
  ]
}